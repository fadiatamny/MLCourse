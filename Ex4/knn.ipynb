{
 "metadata": {
  "language_info": {
   "codemirror_mode": {
    "name": "ipython",
    "version": 3
   },
   "file_extension": ".py",
   "mimetype": "text/x-python",
   "name": "python",
   "nbconvert_exporter": "python",
   "pygments_lexer": "ipython3",
   "version": "3.7.6-final"
  },
  "orig_nbformat": 2,
  "kernelspec": {
   "name": "python3",
   "display_name": "Python 3",
   "language": "python"
  }
 },
 "nbformat": 4,
 "nbformat_minor": 2,
 "cells": [
  {
   "cell_type": "code",
   "execution_count": 16,
   "metadata": {},
   "outputs": [],
   "source": [
    "from sklearn import datasets\t\t# To Get iris dataset\n",
    "from sklearn import svm    \t\t# To fit the svm classifier\n",
    "import numpy as np\n",
    "import matplotlib.pyplot as plt    # To visuvalizing the data\n",
    "import csv\n",
    "import math"
   ]
  },
  {
   "cell_type": "code",
   "execution_count": 6,
   "metadata": {},
   "outputs": [],
   "source": [
    "iris_dataset = datasets.load_iris()"
   ]
  },
  {
   "cell_type": "code",
   "execution_count": 7,
   "metadata": {},
   "outputs": [],
   "source": [
    "\n",
    "def euclideanDistance(instance1, instance2, length):\n",
    "   distance = 0\n",
    "   for x in range(length):\n",
    "         #print ('x is ' , x)\n",
    "         num1=float(instance1[x]) #type casting from the string they are saved as, to numbers.\n",
    "         num2=float(instance2[x])\n",
    "         distance += pow(num1-num2, 2)\n",
    "   return math.sqrt(distance)\n"
   ]
  },
  {
   "cell_type": "code",
   "execution_count": 24,
   "metadata": {},
   "outputs": [
    {
     "output_type": "stream",
     "name": "stdout",
     "text": [
      "['0', '1', '2', 'A']\n['1', '5', '6', 'A']\n4.123105625617661\n"
     ]
    }
   ],
   "source": [
    "with open('myFile.csv', 'r') as myCsvfile:\n",
    "    lines = csv.reader(myCsvfile)\n",
    "    dataWithHeader = list(lines)\n",
    "\n",
    "#put data in dataset without header line\n",
    "dataset = dataWithHeader[1:]\n",
    "print(dataset[0])\n",
    "print(dataset[1])\n",
    "print(euclideanDistance(dataset[0],dataset[1],2))\n"
   ]
  },
  {
   "cell_type": "code",
   "execution_count": 25,
   "metadata": {},
   "outputs": [],
   "source": [
    "class distClass:\n",
    "    dist = -1 #distance of current point from test point\n",
    "    tag = '-' #tag of current point\n"
   ]
  },
  {
   "cell_type": "code",
   "execution_count": 26,
   "metadata": {},
   "outputs": [
    {
     "output_type": "stream",
     "name": "stdout",
     "text": [
      "4.123105625617661\nA\n"
     ]
    }
   ],
   "source": [
    "s1 = distClass()\n",
    "s1.dist = euclideanDistance(dataset[0],dataset[1],2)\n",
    "s1.tag = dataset[1][3]\n",
    "print(s1.dist)\n",
    "print(s1.tag)"
   ]
  },
  {
   "cell_type": "code",
   "execution_count": 32,
   "metadata": {},
   "outputs": [
    {
     "output_type": "stream",
     "name": "stdout",
     "text": [
      "0.0\n4.123105625617661\n39.01281840626232\n2.23606797749979\n0.0\n4.123105625617661\n3.1622776601683795\n21.095023109728988\n22.090722034374522\n23.08679276123039\n"
     ]
    }
   ],
   "source": [
    "def findDist:\n",
    "    distList = list()\n",
    "    for i in range(len(dataset)):\n",
    "        disC = distClass()\n",
    "        disC.dist = euclideanDistance(dataset[0],dataset[i],2)\n",
    "        disC.tag = dataset[i][3]\n",
    "        distList.append(disC)\n",
    "    distList.sort(key=lambda x: x.dist) \n",
    "    return distList"
   ]
  },
  {
   "cell_type": "code",
   "execution_count": 34,
   "metadata": {},
   "outputs": [
    {
     "output_type": "stream",
     "name": "stdout",
     "text": [
      "0.0\n0.0\n2.23606797749979\n3.1622776601683795\n4.123105625617661\n4.123105625617661\n21.095023109728988\n22.090722034374522\n23.08679276123039\n39.01281840626232\n"
     ]
    }
   ],
   "source": [
    "\n",
    "for x in range(len(distList)):\n",
    "    print(distList[x].dist)"
   ]
  },
  {
   "cell_type": "code",
   "execution_count": null,
   "metadata": {},
   "outputs": [],
   "source": [
    "def kNN(newInst,K):\n",
    "    \n",
    "\n"
   ]
  }
 ]
}